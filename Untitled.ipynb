{
 "cells": [
  {
   "cell_type": "code",
   "execution_count": 18,
   "id": "3a17620d",
   "metadata": {
    "slideshow": {
     "slide_type": "skip"
    }
   },
   "outputs": [],
   "source": [
    "import math as m\n",
    "import matplotlib.pyplot as plt\n",
    "import numpy as np\n",
    "from IPython.display import IFrame\n",
    "Geogebra = IFrame('https://www.geogebra.org/calculator/ebyjxjpk?embed', 1920,900)"
   ]
  },
  {
   "cell_type": "markdown",
   "id": "c8c4212d",
   "metadata": {
    "slideshow": {
     "slide_type": "slide"
    }
   },
   "source": [
    "<h5 align=\"center\">\n",
    "    Eksamen vår 2022, MG2MA4\n",
    "<h1 align=\"center\">\n",
    "    Stokatiske variabler, forsøk og spredningsmål\n",
    "</h1>\n",
    "    <h4 align=\"center\">    Laget av Andreas Rui </h4>"
   ]
  },
  {
   "cell_type": "markdown",
   "id": "6f9ced34",
   "metadata": {
    "slideshow": {
     "slide_type": "slide"
    }
   },
   "source": [
    "<h1>\n",
    "    Stokatiske variabler\n",
    "</h1>\n",
    "\n",
    "<ul>\n",
    "    <li>Tilfeldig variabel i et ufallsrom\n",
    "    <li>Stor bokstav: X   \n",
    "    <li>Både diskrete og kontinuerlige utfallsrom"
   ]
  },
  {
   "cell_type": "markdown",
   "id": "5bb74b2c",
   "metadata": {
    "cell_style": "split",
    "slideshow": {
     "slide_type": "slide"
    }
   },
   "source": [
    "<h1>\n",
    "    Diskret stokatisk forsøk\n",
    "\n",
    "</h1>\n",
    "<ul>\n",
    "    <li>X representerer alle de mulige utfallene i et stokatisk forsøk\n",
    "    <li>I et binomisk sannsynlighetsmodell representerer X antall suksess"
   ]
  },
  {
   "cell_type": "code",
   "execution_count": 14,
   "id": "cc0ed63c",
   "metadata": {
    "cell_style": "split",
    "slideshow": {
     "slide_type": "-"
    }
   },
   "outputs": [
    {
     "name": "stdout",
     "output_type": "stream",
     "text": [
      "kumulativ sum:  0.8125\n"
     ]
    },
    {
     "data": {
      "image/png": "[encoded data removed]",
      "text/plain": [
       "<Figure size 432x288 with 1 Axes>"
      ]
     },
     "metadata": {
      "needs_background": "light"
     },
     "output_type": "display_data"
    }
   ],
   "source": [
    "k = 3\n",
    "n = 5\n",
    "p = 0.5\n",
    "\n",
    "def binomisk_sannsynlighet(n, k, p): \n",
    "    return m.comb(n , k)*p**k*(1-p)**(n-k)\n",
    "    \n",
    "\n",
    "x = np.arange(0, n+1)\n",
    "y = []\n",
    "\n",
    "for i in x:\n",
    "    y.append(binomisk_sannsynlighet(n, i, p))\n",
    "plt.bar(x, y)\n",
    "plt.bar(x[:k+1], y[:k+1], color=\"green\")\n",
    "print('kumulativ sum: ', sum(y[:k+1]))"
   ]
  },
  {
   "cell_type": "markdown",
   "id": "f4c5ab5c",
   "metadata": {
    "cell_style": "center",
    "slideshow": {
     "slide_type": "slide"
    }
   },
   "source": [
    "<h1>\n",
    "    Kontinuerlig stokatisk forsøk\n",
    "</h1>"
   ]
  },
  {
   "cell_type": "code",
   "execution_count": 20,
   "id": "57132b3f",
   "metadata": {
    "scrolled": false,
    "slideshow": {
     "slide_type": "-"
    }
   },
   "outputs": [
    {
     "data": {
      "text/html": [
       "\n",
       "        <iframe\n",
       "            width=\"1920\"\n",
       "            height=\"900\"\n",
       "            src=\"https://www.geogebra.org/calculator/ebyjxjpk?embed\"\n",
       "            frameborder=\"0\"\n",
       "            allowfullscreen\n",
       "            \n",
       "        ></iframe>\n",
       "        "
      ],
      "text/plain": [
       "<IPython.lib.display.IFrame at 0x1b5285f52b0>"
      ]
     },
     "execution_count": 20,
     "metadata": {},
     "output_type": "execute_result"
    }
   ],
   "source": [
    "Geogebra"
   ]
  },
  {
   "cell_type": "markdown",
   "id": "1e5aca81",
   "metadata": {
    "slideshow": {
     "slide_type": "slide"
    }
   },
   "source": []
  },
  {
   "cell_type": "code",
   "execution_count": null,
   "id": "da4d4e75",
   "metadata": {
    "slideshow": {
     "slide_type": "slide"
    }
   },
   "outputs": [],
   "source": []
  },
  {
   "cell_type": "code",
   "execution_count": null,
   "id": "c24b9a8a",
   "metadata": {
    "slideshow": {
     "slide_type": "slide"
    }
   },
   "outputs": [],
   "source": []
  },
  {
   "cell_type": "code",
   "execution_count": null,
   "id": "9af60b35",
   "metadata": {
    "cell_style": "split",
    "slideshow": {
     "slide_type": "slide"
    }
   },
   "outputs": [],
   "source": []
  },
  {
   "cell_type": "code",
   "execution_count": null,
   "id": "030baf64",
   "metadata": {},
   "outputs": [],
   "source": []
  }
 ],
 "metadata": {
  "celltoolbar": "Slideshow",
  "kernelspec": {
   "display_name": "Python 3 (ipykernel)",
   "language": "python",
   "name": "python3"
  },
  "language_info": {
   "codemirror_mode": {
    "name": "ipython",
    "version": 3
   },
   "file_extension": ".py",
   "mimetype": "text/x-python",
   "name": "python",
   "nbconvert_exporter": "python",
   "pygments_lexer": "ipython3",
   "version": "3.9.12"
  }
 },
 "nbformat": 4,
 "nbformat_minor": 5
}
